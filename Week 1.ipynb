{
 "cells": [
  {
   "cell_type": "code",
   "execution_count": 1,
   "metadata": {},
   "outputs": [],
   "source": [
    "import numpy as np"
   ]
  },
  {
   "cell_type": "code",
   "execution_count": 7,
   "metadata": {},
   "outputs": [],
   "source": [
    "class Count :\n",
    "    def __init__(self, start_int, end_int):\n",
    "        self.start_int = start_int\n",
    "        self.end_int = end_int\n",
    "        \n",
    "    def print_num(self, ) :\n",
    "        num_list = []\n",
    "        for i in range(self.start_int, self.end_int) :\n",
    "            num_list.append(i)\n",
    "        return num_list\n",
    "    \n",
    "    def print_dec(self, step=0.1) :\n",
    "        num_list = np.arange(\n",
    "            start = self.start_int,\n",
    "            stop = self.end_int,\n",
    "            step = step\n",
    "        )\n",
    "        return num_list"
   ]
  },
  {
   "cell_type": "code",
   "execution_count": 10,
   "metadata": {},
   "outputs": [
    {
     "name": "stdout",
     "output_type": "stream",
     "text": [
      "[3.  3.1 3.2 3.3 3.4 3.5 3.6 3.7 3.8 3.9 4.  4.1 4.2 4.3 4.4 4.5 4.6 4.7\n",
      " 4.8 4.9 5.  5.1 5.2 5.3 5.4 5.5 5.6 5.7 5.8 5.9 6.  6.1 6.2 6.3 6.4 6.5\n",
      " 6.6 6.7 6.8 6.9]\n"
     ]
    }
   ],
   "source": [
    "count1 = Count(\n",
    "    start_int = 3,\n",
    "    end_int = 7\n",
    ")\n",
    "print(count1.print_dec())\n"
   ]
  }
 ],
 "metadata": {
  "kernelspec": {
   "display_name": "audit",
   "language": "python",
   "name": "python3"
  },
  "language_info": {
   "codemirror_mode": {
    "name": "ipython",
    "version": 3
   },
   "file_extension": ".py",
   "mimetype": "text/x-python",
   "name": "python",
   "nbconvert_exporter": "python",
   "pygments_lexer": "ipython3",
   "version": "3.10.12"
  }
 },
 "nbformat": 4,
 "nbformat_minor": 2
}
